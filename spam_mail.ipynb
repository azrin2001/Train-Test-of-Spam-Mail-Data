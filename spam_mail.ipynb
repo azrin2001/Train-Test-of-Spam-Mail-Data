{
 "cells": [
  {
   "cell_type": "markdown",
   "id": "a37469a1",
   "metadata": {},
   "source": [
    " Importing The Dependencies"
   ]
  },
  {
   "cell_type": "code",
   "execution_count": 26,
   "id": "642e2ffe",
   "metadata": {},
   "outputs": [],
   "source": [
    "import numpy as np\n",
    "import pandas as pd\n",
    "import matplotlib.pyplot as plt\n",
    "import seaborn as sns\n",
    "from sklearn.feature_extraction.text import TfidfVectorizer\n",
    "from sklearn.model_selection import train_test_split \n",
    "from sklearn.linear_model import LogisticRegression\n",
    "from sklearn.metrics import accuracy_score"
   ]
  },
  {
   "cell_type": "markdown",
   "id": "ae281acb",
   "metadata": {},
   "source": [
    "Data Collection & Processing"
   ]
  },
  {
   "cell_type": "code",
   "execution_count": 27,
   "id": "20dcf2e9",
   "metadata": {},
   "outputs": [
    {
     "data": {
      "text/html": [
       "<div>\n",
       "<style scoped>\n",
       "    .dataframe tbody tr th:only-of-type {\n",
       "        vertical-align: middle;\n",
       "    }\n",
       "\n",
       "    .dataframe tbody tr th {\n",
       "        vertical-align: top;\n",
       "    }\n",
       "\n",
       "    .dataframe thead th {\n",
       "        text-align: right;\n",
       "    }\n",
       "</style>\n",
       "<table border=\"1\" class=\"dataframe\">\n",
       "  <thead>\n",
       "    <tr style=\"text-align: right;\">\n",
       "      <th></th>\n",
       "      <th>Category</th>\n",
       "      <th>Message</th>\n",
       "    </tr>\n",
       "  </thead>\n",
       "  <tbody>\n",
       "    <tr>\n",
       "      <th>0</th>\n",
       "      <td>ham</td>\n",
       "      <td>Go until jurong point, crazy.. Available only ...</td>\n",
       "    </tr>\n",
       "    <tr>\n",
       "      <th>1</th>\n",
       "      <td>ham</td>\n",
       "      <td>Ok lar... Joking wif u oni...</td>\n",
       "    </tr>\n",
       "    <tr>\n",
       "      <th>2</th>\n",
       "      <td>spam</td>\n",
       "      <td>Free entry in 2 a wkly comp to win FA Cup fina...</td>\n",
       "    </tr>\n",
       "    <tr>\n",
       "      <th>3</th>\n",
       "      <td>ham</td>\n",
       "      <td>U dun say so early hor... U c already then say...</td>\n",
       "    </tr>\n",
       "    <tr>\n",
       "      <th>4</th>\n",
       "      <td>ham</td>\n",
       "      <td>Nah I don't think he goes to usf, he lives aro...</td>\n",
       "    </tr>\n",
       "  </tbody>\n",
       "</table>\n",
       "</div>"
      ],
      "text/plain": [
       "  Category                                            Message\n",
       "0      ham  Go until jurong point, crazy.. Available only ...\n",
       "1      ham                      Ok lar... Joking wif u oni...\n",
       "2     spam  Free entry in 2 a wkly comp to win FA Cup fina...\n",
       "3      ham  U dun say so early hor... U c already then say...\n",
       "4      ham  Nah I don't think he goes to usf, he lives aro..."
      ]
     },
     "execution_count": 27,
     "metadata": {},
     "output_type": "execute_result"
    }
   ],
   "source": [
    "raw_mail_data=pd.read_csv('mail_data.csv')\n",
    "raw_mail_data.head()"
   ]
  },
  {
   "cell_type": "code",
   "execution_count": 28,
   "id": "5d8ba3ad",
   "metadata": {},
   "outputs": [
    {
     "data": {
      "text/plain": [
       "(5572, 2)"
      ]
     },
     "execution_count": 28,
     "metadata": {},
     "output_type": "execute_result"
    }
   ],
   "source": [
    "raw_mail_data.shape"
   ]
  },
  {
   "cell_type": "code",
   "execution_count": 29,
   "id": "d04f1eef",
   "metadata": {},
   "outputs": [],
   "source": [
    "mail_data=raw_mail_data.where((pd.notnull(raw_mail_data)),'')"
   ]
  },
  {
   "cell_type": "code",
   "execution_count": 30,
   "id": "7d97b283",
   "metadata": {},
   "outputs": [
    {
     "data": {
      "text/html": [
       "<div>\n",
       "<style scoped>\n",
       "    .dataframe tbody tr th:only-of-type {\n",
       "        vertical-align: middle;\n",
       "    }\n",
       "\n",
       "    .dataframe tbody tr th {\n",
       "        vertical-align: top;\n",
       "    }\n",
       "\n",
       "    .dataframe thead th {\n",
       "        text-align: right;\n",
       "    }\n",
       "</style>\n",
       "<table border=\"1\" class=\"dataframe\">\n",
       "  <thead>\n",
       "    <tr style=\"text-align: right;\">\n",
       "      <th></th>\n",
       "      <th>Category</th>\n",
       "      <th>Message</th>\n",
       "    </tr>\n",
       "  </thead>\n",
       "  <tbody>\n",
       "    <tr>\n",
       "      <th>0</th>\n",
       "      <td>ham</td>\n",
       "      <td>Go until jurong point, crazy.. Available only ...</td>\n",
       "    </tr>\n",
       "    <tr>\n",
       "      <th>1</th>\n",
       "      <td>ham</td>\n",
       "      <td>Ok lar... Joking wif u oni...</td>\n",
       "    </tr>\n",
       "    <tr>\n",
       "      <th>2</th>\n",
       "      <td>spam</td>\n",
       "      <td>Free entry in 2 a wkly comp to win FA Cup fina...</td>\n",
       "    </tr>\n",
       "    <tr>\n",
       "      <th>3</th>\n",
       "      <td>ham</td>\n",
       "      <td>U dun say so early hor... U c already then say...</td>\n",
       "    </tr>\n",
       "    <tr>\n",
       "      <th>4</th>\n",
       "      <td>ham</td>\n",
       "      <td>Nah I don't think he goes to usf, he lives aro...</td>\n",
       "    </tr>\n",
       "  </tbody>\n",
       "</table>\n",
       "</div>"
      ],
      "text/plain": [
       "  Category                                            Message\n",
       "0      ham  Go until jurong point, crazy.. Available only ...\n",
       "1      ham                      Ok lar... Joking wif u oni...\n",
       "2     spam  Free entry in 2 a wkly comp to win FA Cup fina...\n",
       "3      ham  U dun say so early hor... U c already then say...\n",
       "4      ham  Nah I don't think he goes to usf, he lives aro..."
      ]
     },
     "execution_count": 30,
     "metadata": {},
     "output_type": "execute_result"
    }
   ],
   "source": [
    "mail_data.head()"
   ]
  },
  {
   "cell_type": "markdown",
   "id": "574da46d",
   "metadata": {},
   "source": [
    "Label Encodng"
   ]
  },
  {
   "cell_type": "code",
   "execution_count": 31,
   "id": "b249ca1a",
   "metadata": {},
   "outputs": [],
   "source": [
    "#label spam as 0 and ham as 1\n",
    "mail_data.loc[mail_data['Category']=='spam','Category']=0\n",
    "mail_data.loc[mail_data['Category']=='ham','Category']=1"
   ]
  },
  {
   "cell_type": "code",
   "execution_count": 32,
   "id": "84d11ba0",
   "metadata": {},
   "outputs": [],
   "source": [
    "x=mail_data['Message']\n",
    "y=mail_data['Category']"
   ]
  },
  {
   "cell_type": "code",
   "execution_count": 33,
   "id": "a5e9d692",
   "metadata": {},
   "outputs": [
    {
     "name": "stdout",
     "output_type": "stream",
     "text": [
      "0       Go until jurong point, crazy.. Available only ...\n",
      "1                           Ok lar... Joking wif u oni...\n",
      "2       Free entry in 2 a wkly comp to win FA Cup fina...\n",
      "3       U dun say so early hor... U c already then say...\n",
      "4       Nah I don't think he goes to usf, he lives aro...\n",
      "                              ...                        \n",
      "5567    This is the 2nd time we have tried 2 contact u...\n",
      "5568                 Will ü b going to esplanade fr home?\n",
      "5569    Pity, * was in mood for that. So...any other s...\n",
      "5570    The guy did some bitching but I acted like i'd...\n",
      "5571                           Rofl. Its true to its name\n",
      "Name: Message, Length: 5572, dtype: object\n",
      "0       1\n",
      "1       1\n",
      "2       0\n",
      "3       1\n",
      "4       1\n",
      "       ..\n",
      "5567    0\n",
      "5568    1\n",
      "5569    1\n",
      "5570    1\n",
      "5571    1\n",
      "Name: Category, Length: 5572, dtype: object\n"
     ]
    }
   ],
   "source": [
    "print(x)\n",
    "print(y)"
   ]
  },
  {
   "cell_type": "code",
   "execution_count": 34,
   "id": "917db5f4",
   "metadata": {},
   "outputs": [
    {
     "name": "stdout",
     "output_type": "stream",
     "text": [
      "(5572,) (4457,) (1115,)\n"
     ]
    }
   ],
   "source": [
    "#spliting data in test and train data\n",
    "x_train, x_test, y_train, y_test = train_test_split(x,y, test_size=0.2, random_state=2)\n",
    "print(x.shape, x_train.shape, x_test.shape)"
   ]
  },
  {
   "cell_type": "code",
   "execution_count": 35,
   "id": "6ae37012",
   "metadata": {},
   "outputs": [
    {
     "name": "stdout",
     "output_type": "stream",
     "text": [
      "5086    1\n",
      "2120    1\n",
      "2318    1\n",
      "2917    1\n",
      "1352    1\n",
      "       ..\n",
      "884     1\n",
      "3821    1\n",
      "1066    1\n",
      "208     1\n",
      "1378    0\n",
      "Name: Category, Length: 1115, dtype: object\n"
     ]
    }
   ],
   "source": [
    "print(y_test)"
   ]
  },
  {
   "cell_type": "markdown",
   "id": "2fcc1f13",
   "metadata": {},
   "source": [
    "Feature Extraction"
   ]
  },
  {
   "cell_type": "code",
   "execution_count": 36,
   "id": "d997d29d",
   "metadata": {},
   "outputs": [],
   "source": [
    "#transform the text data to feature vectors that can be used as input in logistic regression\n",
    "feature_extraction=TfidfVectorizer(min_df=1,stop_words='english',lowercase='True')\n",
    "\n",
    "x_train_feature=feature_extraction.fit_transform(x_train)\n",
    "x_test_feature=feature_extraction.transform(x_test)\n",
    "\n",
    "#convert y_train and y_test as integer value\n",
    "y_train=y_train.astype('int')\n",
    "y_test=y_test.astype('int')"
   ]
  },
  {
   "cell_type": "code",
   "execution_count": 37,
   "id": "5943408a",
   "metadata": {},
   "outputs": [
    {
     "name": "stdout",
     "output_type": "stream",
     "text": [
      "3890                    Unlimited texts. Limited minutes.\n",
      "5553                          Hahaha..use your brain dear\n",
      "4366    Ujhhhhhhh computer shipped out with address to...\n",
      "3968    YOU HAVE WON! As a valued Vodafone customer ou...\n",
      "3771    Love it! The girls at the office may wonder wh...\n",
      "                              ...                        \n",
      "3335    That's fine, have him give me a call if he kno...\n",
      "1099    NO GIFTS!! You trying to get me to throw mysel...\n",
      "2514    U have won a nokia 6230 plus a free digital ca...\n",
      "3606                      Jordan got voted out last nite!\n",
      "2575    Your next amazing xxx PICSFREE1 video will be ...\n",
      "Name: Message, Length: 4457, dtype: object\n"
     ]
    }
   ],
   "source": [
    "print(x_train)"
   ]
  },
  {
   "cell_type": "code",
   "execution_count": 38,
   "id": "4b670e2c",
   "metadata": {},
   "outputs": [
    {
     "name": "stdout",
     "output_type": "stream",
     "text": [
      "  (0, 4334)\t0.42941702167641554\n",
      "  (0, 3958)\t0.6161071828926097\n",
      "  (0, 6586)\t0.44333254982109394\n",
      "  (0, 6927)\t0.48935591439341625\n",
      "  (1, 2121)\t0.3573617143022146\n",
      "  (1, 1428)\t0.5869421390016223\n",
      "  (1, 6971)\t0.42812434651556874\n",
      "  (1, 3168)\t0.5869421390016223\n",
      "  (2, 5115)\t0.3408491178137899\n",
      "  (2, 7353)\t0.31988118061968496\n",
      "  (2, 3852)\t0.3408491178137899\n",
      "  (2, 4884)\t0.35749230587184955\n",
      "  (2, 5695)\t0.35749230587184955\n",
      "  (2, 806)\t0.26730249393705324\n",
      "  (2, 5894)\t0.35749230587184955\n",
      "  (2, 1876)\t0.28751725124107325\n",
      "  (2, 6878)\t0.35749230587184955\n",
      "  (3, 197)\t0.36522237107066735\n",
      "  (3, 3723)\t0.16297045459835785\n",
      "  (3, 2435)\t0.26698378141852\n",
      "  (3, 1825)\t0.26858331513730566\n",
      "  (3, 5231)\t0.2266831802864503\n",
      "  (3, 300)\t0.2915969875465198\n",
      "  (3, 7248)\t0.23571908490908416\n",
      "  (3, 5005)\t0.3169028431039865\n",
      "  :\t:\n",
      "  (4454, 2244)\t0.2526916142542512\n",
      "  (4454, 666)\t0.28653660324238944\n",
      "  (4454, 1575)\t0.20946314330145205\n",
      "  (4454, 1094)\t0.24862733340971144\n",
      "  (4454, 5068)\t0.22284357632450164\n",
      "  (4454, 311)\t0.19547195974237946\n",
      "  (4454, 4627)\t0.3831814754124698\n",
      "  (4454, 2879)\t0.28899333825056067\n",
      "  (4454, 5811)\t0.14953570764179772\n",
      "  (4454, 7248)\t0.18493430649182369\n",
      "  (4454, 7297)\t0.1741110805400093\n",
      "  (4455, 7075)\t0.6255253074975946\n",
      "  (4455, 3701)\t0.546620099025937\n",
      "  (4455, 4614)\t0.4677148905542796\n",
      "  (4455, 3084)\t0.3019392955127119\n",
      "  (4456, 3768)\t0.30090411827956587\n",
      "  (4456, 5009)\t0.6018082365591317\n",
      "  (4456, 909)\t0.26924653489772427\n",
      "  (4456, 7032)\t0.2868954144677231\n",
      "  (4456, 2509)\t0.20620887737471993\n",
      "  (4456, 380)\t0.24893867331233713\n",
      "  (4456, 7033)\t0.43304344994724825\n",
      "  (4456, 7376)\t0.20404881687716278\n",
      "  (4456, 5820)\t0.18767970267638426\n",
      "  (4456, 6575)\t0.15362974460832007\n"
     ]
    }
   ],
   "source": [
    "print(x_train_feature)"
   ]
  },
  {
   "cell_type": "markdown",
   "id": "db4985b5",
   "metadata": {},
   "source": [
    "Training the Model"
   ]
  },
  {
   "cell_type": "markdown",
   "id": "9f2be23a",
   "metadata": {},
   "source": [
    "Logistics Regression"
   ]
  },
  {
   "cell_type": "code",
   "execution_count": 40,
   "id": "4b56366e",
   "metadata": {},
   "outputs": [],
   "source": [
    "model=LogisticRegression()"
   ]
  },
  {
   "cell_type": "code",
   "execution_count": 41,
   "id": "a47b6e2f",
   "metadata": {},
   "outputs": [
    {
     "data": {
      "text/plain": [
       "LogisticRegression()"
      ]
     },
     "execution_count": 41,
     "metadata": {},
     "output_type": "execute_result"
    }
   ],
   "source": [
    "#training with logistics regression model with training data\n",
    "model.fit(x_train_feature, y_train)"
   ]
  },
  {
   "cell_type": "markdown",
   "id": "f24180b1",
   "metadata": {},
   "source": [
    "Model Evaluation\n",
    "\n",
    "Accuracy Score"
   ]
  },
  {
   "cell_type": "code",
   "execution_count": 42,
   "id": "531d7990",
   "metadata": {},
   "outputs": [
    {
     "name": "stdout",
     "output_type": "stream",
     "text": [
      "[1 1 1 ... 0 1 1]\n"
     ]
    }
   ],
   "source": [
    "#accuracy of training data\n",
    "x_tarin_prediction = model.predict(x_train_feature)\n",
    "print(x_tarin_prediction)"
   ]
  },
  {
   "cell_type": "code",
   "execution_count": 43,
   "id": "f215614e",
   "metadata": {},
   "outputs": [
    {
     "name": "stdout",
     "output_type": "stream",
     "text": [
      "Accuracy of train data is 0.9683643706529056\n"
     ]
    }
   ],
   "source": [
    "training_data_accuracy = accuracy_score(y_train, x_tarin_prediction)\n",
    "print('Accuracy of train data is', training_data_accuracy)"
   ]
  },
  {
   "cell_type": "code",
   "execution_count": 44,
   "id": "1a9c4f8e",
   "metadata": {},
   "outputs": [
    {
     "name": "stdout",
     "output_type": "stream",
     "text": [
      "[1 1 1 ... 1 1 0]\n"
     ]
    }
   ],
   "source": [
    "#accuracy of test data\n",
    "x_test_prediction = model.predict(x_test_feature)\n",
    "print(x_test_prediction)"
   ]
  },
  {
   "cell_type": "code",
   "execution_count": 45,
   "id": "37bd0717",
   "metadata": {},
   "outputs": [
    {
     "name": "stdout",
     "output_type": "stream",
     "text": [
      "Accuracy of test data is 0.9524663677130045\n"
     ]
    }
   ],
   "source": [
    "testing_data_accuracy = accuracy_score(y_test, x_test_prediction)\n",
    "print('Accuracy of test data is', testing_data_accuracy)"
   ]
  },
  {
   "cell_type": "code",
   "execution_count": null,
   "id": "fbf8b537",
   "metadata": {},
   "outputs": [],
   "source": []
  }
 ],
 "metadata": {
  "kernelspec": {
   "display_name": "Python 3 (ipykernel)",
   "language": "python",
   "name": "python3"
  },
  "language_info": {
   "codemirror_mode": {
    "name": "ipython",
    "version": 3
   },
   "file_extension": ".py",
   "mimetype": "text/x-python",
   "name": "python",
   "nbconvert_exporter": "python",
   "pygments_lexer": "ipython3",
   "version": "3.9.12"
  }
 },
 "nbformat": 4,
 "nbformat_minor": 5
}
